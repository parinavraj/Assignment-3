{
 "cells": [
  {
   "cell_type": "markdown",
   "id": "a0ce2ceb",
   "metadata": {},
   "source": [
    "# Q1. Why are functions advantageous to have in your programs?"
   ]
  },
  {
   "cell_type": "raw",
   "id": "f08a46e5",
   "metadata": {},
   "source": [
    "With the help of functions, we can avoid rewriting the same logic or code again and again in a program."
   ]
  },
  {
   "cell_type": "markdown",
   "id": "b3d2c12a",
   "metadata": {},
   "source": [
    "# Q2. When does the code in a function run: when it's specified or when it's called?"
   ]
  },
  {
   "cell_type": "raw",
   "id": "5a43f608",
   "metadata": {},
   "source": [
    "the code in a function run when it is called."
   ]
  },
  {
   "cell_type": "markdown",
   "id": "e7e4f3de",
   "metadata": {},
   "source": [
    "# Q3.What statement creates a function?"
   ]
  },
  {
   "cell_type": "raw",
   "id": "f66a868c",
   "metadata": {},
   "source": [
    "def statement creates a function."
   ]
  },
  {
   "cell_type": "markdown",
   "id": "3425bd1d",
   "metadata": {},
   "source": [
    "# Q4. What is the difference between a function and a function call?"
   ]
  },
  {
   "cell_type": "raw",
   "id": "fb5ed40c",
   "metadata": {},
   "source": [
    "A function consists of the def statement and the code in its def clause. A function call is what moves the program execution into the function, and the function call evaluates to the function's return value."
   ]
  },
  {
   "cell_type": "markdown",
   "id": "3e721664",
   "metadata": {},
   "source": [
    "# Q5. How many global scopes are there in a Python program? How many local scopes?"
   ]
  },
  {
   "cell_type": "raw",
   "id": "bb27109a",
   "metadata": {},
   "source": [
    "there are only one global scopes in python program . and also only one type of local scope."
   ]
  },
  {
   "cell_type": "markdown",
   "id": "92bb3f3f",
   "metadata": {},
   "source": [
    "# Q6. What happens to variables in a local scope when the function call returns?"
   ]
  },
  {
   "cell_type": "raw",
   "id": "ab630475",
   "metadata": {},
   "source": [
    "when function call returns every variable in it is forgotten and the local scope destroyed."
   ]
  },
  {
   "cell_type": "markdown",
   "id": "17e235f9",
   "metadata": {},
   "source": [
    "# Q7. What is the concept of a return value? Is it possible to have a return value in an expression?"
   ]
  },
  {
   "cell_type": "raw",
   "id": "96f02c91",
   "metadata": {},
   "source": [
    "We can use the return statement to make our functions send Python objects back to the caller code.\n",
    "yes it is possible to have a return value in an wxpression."
   ]
  },
  {
   "cell_type": "markdown",
   "id": "32eb4f98",
   "metadata": {},
   "source": [
    "# Q8. If a function does not have a return statement, what is the return value of a call to that function?"
   ]
  },
  {
   "cell_type": "raw",
   "id": "6e9d323e",
   "metadata": {},
   "source": [
    "if a function does not have return statement it gives none value."
   ]
  },
  {
   "cell_type": "markdown",
   "id": "bccec8ab",
   "metadata": {},
   "source": [
    "# Q9. How do you make a function variable refer to the global variable?"
   ]
  },
  {
   "cell_type": "raw",
   "id": "6484692c",
   "metadata": {},
   "source": [
    "A global statement will force a variable in a function to refer to the global variable. If you want to refer to a global variable in a function, you can use the global keyword to declare which variables are global"
   ]
  },
  {
   "cell_type": "markdown",
   "id": "887d8135",
   "metadata": {},
   "source": [
    "# Q10. What is the data type of None?"
   ]
  },
  {
   "cell_type": "raw",
   "id": "46d24f76",
   "metadata": {},
   "source": [
    "None is a data type of its own (NoneType) ."
   ]
  },
  {
   "cell_type": "markdown",
   "id": "f202ad8a",
   "metadata": {},
   "source": [
    "# Q11. What does the sentence import areallyourpetsnamederic do?"
   ]
  },
  {
   "cell_type": "raw",
   "id": "f6ec3527",
   "metadata": {},
   "source": [
    "That import statement imports a module named areallyourpetsnamederic."
   ]
  },
  {
   "cell_type": "markdown",
   "id": "457e2ae7",
   "metadata": {},
   "source": [
    "# Q12. If you had a bacon() feature in a spam module, what would you call it after importing spam?"
   ]
  },
  {
   "cell_type": "raw",
   "id": "f89e93e9",
   "metadata": {},
   "source": [
    "we can call it after importing spam as spam.bcon() ."
   ]
  },
  {
   "cell_type": "markdown",
   "id": "8dfbe6b0",
   "metadata": {},
   "source": [
    "# Q13. What can you do to save a programme from crashing if it encounters an error?"
   ]
  },
  {
   "cell_type": "raw",
   "id": "9edff567",
   "metadata": {},
   "source": [
    "Place the line of code that might cause an error in a try clause and use except block to handle the error."
   ]
  },
  {
   "cell_type": "markdown",
   "id": "64ea1cf3",
   "metadata": {},
   "source": [
    "# Q14. What is the purpose of the try clause? What is the purpose of the except clause?"
   ]
  },
  {
   "cell_type": "raw",
   "id": "a3e40552",
   "metadata": {},
   "source": [
    "The try block test a block of code for errors. The except block handle the error."
   ]
  }
 ],
 "metadata": {
  "kernelspec": {
   "display_name": "Python 3 (ipykernel)",
   "language": "python",
   "name": "python3"
  },
  "language_info": {
   "codemirror_mode": {
    "name": "ipython",
    "version": 3
   },
   "file_extension": ".py",
   "mimetype": "text/x-python",
   "name": "python",
   "nbconvert_exporter": "python",
   "pygments_lexer": "ipython3",
   "version": "3.9.7"
  }
 },
 "nbformat": 4,
 "nbformat_minor": 5
}
